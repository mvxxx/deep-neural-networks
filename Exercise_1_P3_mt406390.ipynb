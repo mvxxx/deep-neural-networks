{
  "nbformat": 4,
  "nbformat_minor": 0,
  "metadata": {
    "kernelspec": {
      "name": "python3",
      "display_name": "Python 3"
    },
    "colab": {
      "name": "Exercise_1_P3.ipynb",
      "provenance": []
    }
  },
  "cells": [
    {
      "cell_type": "markdown",
      "metadata": {
        "id": "s47n23ty7ss5"
      },
      "source": [
        "# Simple linear regression \n",
        "\n",
        "In this exercise you will train a linear regression model via gradient descent in the simplest scenario, i.e. recreating an affine function.\n",
        "\n",
        "The setup is as follows:\n",
        "* we are given a set of pairs $(x, y)$, where $x$ represents the feature, and $y$ is the target,\n",
        "* our hypothesis is $h(x) = ax + b$,\n",
        "* we will use the dataset consisting of set of pairs to figure out the right values for $a$ and $b$,\n",
        "* to do so we will optimize the loss function: $J(a,b) = \\frac{1}{n}\\sum_{i=1}^n (y_i - h(x_i))^2$,\n",
        "* with the loss function in hand we can improve our guesses iteratively:\n",
        "    * $a^{t+1} = a^t - \\text{step_size} \\cdot \\frac{\\partial J(a,b)}{\\partial a}$,\n",
        "    * $b^{t+1} = b^t - \\text{step_size} \\cdot \\frac{\\partial J(a,b)}{\\partial b}$,\n",
        "* we can end the process after some predefined number of epochs (or when the changes are no longer meaningful).\n",
        "\n",
        "Let's start with creating the dataset."
      ]
    },
    {
      "cell_type": "code",
      "metadata": {
        "id": "hOm-6OMd7ss7"
      },
      "source": [
        "%matplotlib inline\n",
        "\n",
        "import random\n",
        "import numpy as np\n",
        "\n",
        "_a = 0.3\n",
        "_b = 0.5\n",
        "\n",
        "f = lambda x: _a * x + _b # ground truth\n",
        "g = lambda x: f(x) + random.gauss(0, 0.02) # a noisy version of f"
      ],
      "execution_count": null,
      "outputs": []
    },
    {
      "cell_type": "code",
      "metadata": {
        "id": "2EQLIz_Y7stB"
      },
      "source": [
        "n = 50 # number of examples\n",
        "\n",
        "xs = [random.random() for _ in range(n)] # features\n",
        "ys = list(map(g, xs)) # targets\n",
        "\n",
        "ts = list(map(f, xs)) # we don't get to see this"
      ],
      "execution_count": null,
      "outputs": []
    },
    {
      "cell_type": "markdown",
      "metadata": {
        "id": "oyIWYrek7stF"
      },
      "source": [
        "Our goal is to recreate $f$. However, as reality can be harsh (and usually is) we only get to observe $g$. We observe it as a list of pairs $(x,y) \\in \\text{zip}(xs, ys)$.\n",
        "\n",
        "Let's plot the data."
      ]
    },
    {
      "cell_type": "code",
      "metadata": {
        "id": "UBp8TaLJ7stH",
        "colab": {
          "base_uri": "https://localhost:8080/",
          "height": 663
        },
        "outputId": "c427bb6b-7740-4886-ca0d-66a5e714916e"
      },
      "source": [
        "import matplotlib.pyplot as plt\n",
        "import seaborn as sns\n",
        "\n",
        "fig = plt.figure(figsize=(11, 11))\n",
        "plt.scatter(xs, ys)"
      ],
      "execution_count": null,
      "outputs": [
        {
          "output_type": "execute_result",
          "data": {
            "text/plain": [
              "<matplotlib.collections.PathCollection at 0x7ff3bcb15c90>"
            ]
          },
          "metadata": {
            "tags": []
          },
          "execution_count": 3
        },
        {
          "output_type": "display_data",
          "data": {
            "image/png": "[encoded data removed]",
            "text/plain": [
              "<Figure size 792x792 with 1 Axes>"
            ]
          },
          "metadata": {
            "tags": [],
            "needs_background": "light"
          }
        }
      ]
    },
    {
      "cell_type": "code",
      "metadata": {
        "id": "nRqybzzs7stM"
      },
      "source": [
        "def l2_loss(ys, ps):\n",
        "    assert len(ys) == len(ps)\n",
        "    return np.mean((np.array(ys)-np.array(ps))**2)"
      ],
      "execution_count": null,
      "outputs": []
    },
    {
      "cell_type": "markdown",
      "metadata": {
        "id": "ofYLNJM87stQ"
      },
      "source": [
        "Please take a while to (roughly) guess the output before executing the cell below."
      ]
    },
    {
      "cell_type": "code",
      "metadata": {
        "id": "CMavAdN77stR",
        "colab": {
          "base_uri": "https://localhost:8080/"
        },
        "outputId": "23df488b-c0ca-410f-f811-651b6a2c6098"
      },
      "source": [
        "l2_loss(ys, ts)"
      ],
      "execution_count": null,
      "outputs": [
        {
          "output_type": "execute_result",
          "data": {
            "text/plain": [
              "0.00028491775503976095"
            ]
          },
          "metadata": {
            "tags": []
          },
          "execution_count": 5
        }
      ]
    },
    {
      "cell_type": "markdown",
      "metadata": {
        "id": "RTRbX1tm7stV"
      },
      "source": [
        "Let's now implement the algorithm\n",
        "\n",
        "Hint: To make sure that you correctly compute the gradients, you can compute them numerically and compare the results. "
      ]
    },
    {
      "cell_type": "code",
      "metadata": {
        "id": "ChxX0fEL7stW",
        "colab": {
          "base_uri": "https://localhost:8080/"
        },
        "outputId": "ff441e94-1821-4b15-e717-911d321ec35f"
      },
      "source": [
        "a = 0. # our initial guess for _a\n",
        "b = 0. # our initial guess for _b\n",
        "lr = 0.5 # step size\n",
        "\n",
        "n_epochs = 40 # number of passes over the training data\n",
        "\n",
        "def predict(a, b, xs=xs):\n",
        "    return [a * x + b for x in xs]\n",
        "\n",
        "def evaluate(a, b, xs=xs, ys=ys):\n",
        "    return l2_loss(ys, predict(a, b, xs))\n",
        "\n",
        "losses = [evaluate(a, b)]\n",
        "\n",
        "xs,ys,ts = np.array(xs), np.array(ys), np.array(ts)\n",
        "\n",
        "for i in range(n_epochs):\n",
        "    # dL/da = dL/dh * dh/da\n",
        "    # dL/db = dL/dh * dh/db\n",
        "    # dL/dh = d/dh (1/n sum(y-h)^2) = 1/n*sum 2*(h-y)\n",
        "    # dh/da = x\n",
        "    # dh/db = 1\n",
        "    y_pred = predict(a,b,xs)\n",
        "    dloss_a = (1/n) * np.dot(xs, 2*(y_pred-ys))\n",
        "    dloss_b = (1/n) * np.sum(2*(y_pred-ys))\n",
        "\n",
        "    a-=lr*dloss_a\n",
        "    b-=lr*dloss_b\n",
        "\n",
        "    loss = evaluate(a, b)\n",
        "    losses.append(loss)\n",
        "    print('Iter: {:>3} Loss: {:8.8f} a: {:8.5f}, b: {:8.5f}'.format(i, loss, a, b))"
      ],
      "execution_count": null,
      "outputs": [
        {
          "output_type": "stream",
          "text": [
            "Iter:   0 Loss: 0.03791841 a:  0.36822, b:  0.65523\n",
            "Iter:   1 Loss: 0.00354655 a:  0.26187, b:  0.46201\n",
            "Iter:   2 Loss: 0.00058363 a:  0.29467, b:  0.51782\n",
            "Iter:   3 Loss: 0.00032554 a:  0.28653, b:  0.50061\n",
            "Iter:   4 Loss: 0.00030071 a:  0.29032, b:  0.50487\n",
            "Iter:   5 Loss: 0.00029627 a:  0.29052, b:  0.50289\n",
            "Iter:   6 Loss: 0.00029386 a:  0.29170, b:  0.50278\n",
            "Iter:   7 Loss: 0.00029187 a:  0.29251, b:  0.50216\n",
            "Iter:   8 Loss: 0.00029012 a:  0.29336, b:  0.50174\n",
            "Iter:   9 Loss: 0.00028859 a:  0.29413, b:  0.50129\n",
            "Iter:  10 Loss: 0.00028724 a:  0.29486, b:  0.50089\n",
            "Iter:  11 Loss: 0.00028605 a:  0.29554, b:  0.50051\n",
            "Iter:  12 Loss: 0.00028501 a:  0.29618, b:  0.50015\n",
            "Iter:  13 Loss: 0.00028409 a:  0.29678, b:  0.49981\n",
            "Iter:  14 Loss: 0.00028328 a:  0.29735, b:  0.49950\n",
            "Iter:  15 Loss: 0.00028256 a:  0.29788, b:  0.49920\n",
            "Iter:  16 Loss: 0.00028193 a:  0.29838, b:  0.49892\n",
            "Iter:  17 Loss: 0.00028138 a:  0.29884, b:  0.49866\n",
            "Iter:  18 Loss: 0.00028089 a:  0.29928, b:  0.49842\n",
            "Iter:  19 Loss: 0.00028046 a:  0.29969, b:  0.49819\n",
            "Iter:  20 Loss: 0.00028009 a:  0.30008, b:  0.49797\n",
            "Iter:  21 Loss: 0.00027975 a:  0.30044, b:  0.49777\n",
            "Iter:  22 Loss: 0.00027946 a:  0.30078, b:  0.49758\n",
            "Iter:  23 Loss: 0.00027920 a:  0.30110, b:  0.49740\n",
            "Iter:  24 Loss: 0.00027897 a:  0.30139, b:  0.49723\n",
            "Iter:  25 Loss: 0.00027877 a:  0.30167, b:  0.49708\n",
            "Iter:  26 Loss: 0.00027860 a:  0.30194, b:  0.49693\n",
            "Iter:  27 Loss: 0.00027844 a:  0.30218, b:  0.49679\n",
            "Iter:  28 Loss: 0.00027831 a:  0.30242, b:  0.49666\n",
            "Iter:  29 Loss: 0.00027819 a:  0.30263, b:  0.49654\n",
            "Iter:  30 Loss: 0.00027808 a:  0.30284, b:  0.49643\n",
            "Iter:  31 Loss: 0.00027799 a:  0.30303, b:  0.49632\n",
            "Iter:  32 Loss: 0.00027791 a:  0.30321, b:  0.49622\n",
            "Iter:  33 Loss: 0.00027783 a:  0.30338, b:  0.49613\n",
            "Iter:  34 Loss: 0.00027777 a:  0.30353, b:  0.49604\n",
            "Iter:  35 Loss: 0.00027772 a:  0.30368, b:  0.49595\n",
            "Iter:  36 Loss: 0.00027767 a:  0.30382, b:  0.49588\n",
            "Iter:  37 Loss: 0.00027762 a:  0.30395, b:  0.49580\n",
            "Iter:  38 Loss: 0.00027758 a:  0.30407, b:  0.49574\n",
            "Iter:  39 Loss: 0.00027755 a:  0.30419, b:  0.49567\n"
          ],
          "name": "stdout"
        }
      ]
    },
    {
      "cell_type": "code",
      "metadata": {
        "id": "pdR0279A7stZ",
        "colab": {
          "base_uri": "https://localhost:8080/",
          "height": 282
        },
        "outputId": "e3e7c170-6298-4d24-c2e5-75a17eb7421d"
      },
      "source": [
        "plt.plot(losses)"
      ],
      "execution_count": null,
      "outputs": [
        {
          "output_type": "execute_result",
          "data": {
            "text/plain": [
              "[<matplotlib.lines.Line2D at 0x7ff3bc611c50>]"
            ]
          },
          "metadata": {
            "tags": []
          },
          "execution_count": 7
        },
        {
          "output_type": "display_data",
          "data": {
            "image/png": "[encoded data removed]",
            "text/plain": [
              "<Figure size 432x288 with 1 Axes>"
            ]
          },
          "metadata": {
            "tags": [],
            "needs_background": "light"
          }
        }
      ]
    },
    {
      "cell_type": "markdown",
      "metadata": {
        "id": "J7c_9F8u7stc"
      },
      "source": [
        "Let's now visually asses how we do on training data"
      ]
    },
    {
      "cell_type": "code",
      "metadata": {
        "id": "GH34w_867std",
        "colab": {
          "base_uri": "https://localhost:8080/",
          "height": 646
        },
        "outputId": "bf037ea3-a39b-4467-e7f7-dcd15825fe72"
      },
      "source": [
        "fig = plt.figure(figsize=(11, 11))\n",
        "plt.scatter(xs, ys)\n",
        "plt.plot(xs, predict(a, b), c='g')\n",
        "plt.show()"
      ],
      "execution_count": null,
      "outputs": [
        {
          "output_type": "display_data",
          "data": {
            "image/png": "[encoded data removed]",
            "text/plain": [
              "<Figure size 792x792 with 1 Axes>"
            ]
          },
          "metadata": {
            "tags": [],
            "needs_background": "light"
          }
        }
      ]
    },
    {
      "cell_type": "code",
      "metadata": {
        "id": "C1ZfnCzB7stf",
        "colab": {
          "base_uri": "https://localhost:8080/",
          "height": 646
        },
        "outputId": "c9eed7ba-b257-435f-e19e-d48ffb1ff42a"
      },
      "source": [
        "fig = plt.figure(figsize=(11, 11))\n",
        "plt.scatter(xs, ys)\n",
        "plt.scatter(xs, ts, c='red')\n",
        "\n",
        "plt.plot(xs, predict(a, b), c='g')\n",
        "\n",
        "plt.show()"
      ],
      "execution_count": null,
      "outputs": [
        {
          "output_type": "display_data",
          "data": {
            "image/png": "[encoded data removed]",
            "text/plain": [
              "<Figure size 792x792 with 1 Axes>"
            ]
          },
          "metadata": {
            "tags": [],
            "needs_background": "light"
          }
        }
      ]
    },
    {
      "cell_type": "markdown",
      "metadata": {
        "id": "dlW25Mnq7sth"
      },
      "source": [
        "Let's check our implementation vs. the one in sklearn"
      ]
    },
    {
      "cell_type": "code",
      "metadata": {
        "id": "0r6GSafQ7sti",
        "colab": {
          "base_uri": "https://localhost:8080/"
        },
        "outputId": "51bc3720-243a-41d5-f0ce-6b6d4bc3cf87"
      },
      "source": [
        "from sklearn.linear_model import LinearRegression\n",
        "import numpy as np\n",
        "\n",
        "X = np.array(xs).reshape((len(xs), 1))\n",
        "regr = LinearRegression()\n",
        "regr.fit(X, ys) # traini\n",
        "\n",
        "sk_a = float(regr.coef_)\n",
        "sk_b = regr.intercept_\n",
        "sk_loss = l2_loss(ys, regr.predict(X))\n",
        "\n",
        "print('Loss: {:8.8f} a: {:8.5f}, b: {:8.5f}'.format(sk_loss, sk_a, sk_b))"
      ],
      "execution_count": null,
      "outputs": [
        {
          "output_type": "stream",
          "text": [
            "Loss: 0.00027730 a:  0.30594, b:  0.49469\n"
          ],
          "name": "stdout"
        }
      ]
    },
    {
      "cell_type": "code",
      "metadata": {
        "id": "ebBxXRDb9ie7"
      },
      "source": [
        ""
      ],
      "execution_count": null,
      "outputs": []
    }
  ]
}