{
  "nbformat": 4,
  "nbformat_minor": 0,
  "metadata": {
    "kernelspec": {
      "name": "python3",
      "display_name": "Python 3"
    },
    "colab": {
      "name": "Exercise_2_P3_mt406390.ipynb",
      "provenance": [],
      "collapsed_sections": []
    }
  },
  "cells": [
    {
      "cell_type": "markdown",
      "metadata": {
        "id": "VqdiMxZx-EoD"
      },
      "source": [
        "# Linear regression \n",
        "\n",
        "In this exercise you will use linear regression to predict flat prices. One more time, training will be handled via gradient descent. Although, contratry to the first exercise, we will now:\n",
        "* have multiple features (i.e. variables used to make the prediction),\n",
        "* employ some basic feature engineering,\n",
        "* work with a different loss function.\n",
        "\n",
        "Let's start with getting the data."
      ]
    },
    {
      "cell_type": "code",
      "metadata": {
        "id": "heeKjQ2r-EoH",
        "colab": {
          "base_uri": "https://localhost:8080/"
        },
        "outputId": "a5e11395-8ba3-45c8-e224-2f6cac0f4551"
      },
      "source": [
        "%matplotlib inline\n",
        "\n",
        "!wget -O mieszkania.csv https://www.dropbox.com/s/zey0gx91pna8irj/mieszkania.csv?dl=1\n",
        "!wget -O mieszkania_test.csv https://www.dropbox.com/s/dbrj6sbxb4ayqjz/mieszkania_test.csv?dl=1"
      ],
      "execution_count": null,
      "outputs": [
        {
          "output_type": "stream",
          "text": [
            "--2021-03-11 23:45:05--  https://www.dropbox.com/s/zey0gx91pna8irj/mieszkania.csv?dl=1\n",
            "Resolving www.dropbox.com (www.dropbox.com)... 162.125.5.18, 2620:100:601d:18::a27d:512\n",
            "Connecting to www.dropbox.com (www.dropbox.com)|162.125.5.18|:443... connected.\n",
            "HTTP request sent, awaiting response... 301 Moved Permanently\n",
            "Location: /s/dl/zey0gx91pna8irj/mieszkania.csv [following]\n",
            "--2021-03-11 23:45:06--  https://www.dropbox.com/s/dl/zey0gx91pna8irj/mieszkania.csv\n",
            "Reusing existing connection to www.dropbox.com:443.\n",
            "HTTP request sent, awaiting response... 302 Found\n",
            "Location: https://uc9c9db9cd394b64629fc838db70.dl.dropboxusercontent.com/cd/0/get/BKg6MJoa95C7F4SKqNaOa029X5eJsNk1Xy61dryd_bm6qQEfVexSYQnRmO1x7ba22v668E1z-9lbjNZG_EbX46U1YqIyzbJr38Ist5SgnQYQqlpEsNQOP0VYz_1V_lqUS7SUhmyxGEQDSnXF6kWbUFN8/file?dl=1# [following]\n",
            "--2021-03-11 23:45:06--  https://uc9c9db9cd394b64629fc838db70.dl.dropboxusercontent.com/cd/0/get/BKg6MJoa95C7F4SKqNaOa029X5eJsNk1Xy61dryd_bm6qQEfVexSYQnRmO1x7ba22v668E1z-9lbjNZG_EbX46U1YqIyzbJr38Ist5SgnQYQqlpEsNQOP0VYz_1V_lqUS7SUhmyxGEQDSnXF6kWbUFN8/file?dl=1\n",
            "Resolving uc9c9db9cd394b64629fc838db70.dl.dropboxusercontent.com (uc9c9db9cd394b64629fc838db70.dl.dropboxusercontent.com)... 162.125.5.15, 2620:100:601d:15::a27d:50f\n",
            "Connecting to uc9c9db9cd394b64629fc838db70.dl.dropboxusercontent.com (uc9c9db9cd394b64629fc838db70.dl.dropboxusercontent.com)|162.125.5.15|:443... connected.\n",
            "HTTP request sent, awaiting response... 200 OK\n",
            "Length: 6211 (6.1K) [application/binary]\n",
            "Saving to: ‘mieszkania.csv’\n",
            "\n",
            "mieszkania.csv      100%[===================>]   6.07K  --.-KB/s    in 0s      \n",
            "\n",
            "2021-03-11 23:45:06 (700 MB/s) - ‘mieszkania.csv’ saved [6211/6211]\n",
            "\n",
            "--2021-03-11 23:45:06--  https://www.dropbox.com/s/dbrj6sbxb4ayqjz/mieszkania_test.csv?dl=1\n",
            "Resolving www.dropbox.com (www.dropbox.com)... 162.125.5.18, 2620:100:601d:18::a27d:512\n",
            "Connecting to www.dropbox.com (www.dropbox.com)|162.125.5.18|:443... connected.\n",
            "HTTP request sent, awaiting response... 301 Moved Permanently\n",
            "Location: /s/dl/dbrj6sbxb4ayqjz/mieszkania_test.csv [following]\n",
            "--2021-03-11 23:45:07--  https://www.dropbox.com/s/dl/dbrj6sbxb4ayqjz/mieszkania_test.csv\n",
            "Reusing existing connection to www.dropbox.com:443.\n",
            "HTTP request sent, awaiting response... 302 Found\n",
            "Location: https://ucfb95fc65ea9454ad5453c5af54.dl.dropboxusercontent.com/cd/0/get/BKiByg5Dkeh0Nnl9amG8MkY7_YV3uTBJ86x6NKur9xnHGiqNR3E_pmSdRFjNMsypUHOwC-QwFRcZQ7E_G5b1kFzI2oEmJDdjJVd0GVCOiuybnuHuJxfKiStJkW39aVdqxxHccIgk2DF9fVHene_ztxSf/file?dl=1# [following]\n",
            "--2021-03-11 23:45:08--  https://ucfb95fc65ea9454ad5453c5af54.dl.dropboxusercontent.com/cd/0/get/BKiByg5Dkeh0Nnl9amG8MkY7_YV3uTBJ86x6NKur9xnHGiqNR3E_pmSdRFjNMsypUHOwC-QwFRcZQ7E_G5b1kFzI2oEmJDdjJVd0GVCOiuybnuHuJxfKiStJkW39aVdqxxHccIgk2DF9fVHene_ztxSf/file?dl=1\n",
            "Resolving ucfb95fc65ea9454ad5453c5af54.dl.dropboxusercontent.com (ucfb95fc65ea9454ad5453c5af54.dl.dropboxusercontent.com)... 162.125.5.15, 2620:100:601d:15::a27d:50f\n",
            "Connecting to ucfb95fc65ea9454ad5453c5af54.dl.dropboxusercontent.com (ucfb95fc65ea9454ad5453c5af54.dl.dropboxusercontent.com)|162.125.5.15|:443... connected.\n",
            "HTTP request sent, awaiting response... 200 OK\n",
            "Length: 6247 (6.1K) [application/binary]\n",
            "Saving to: ‘mieszkania_test.csv’\n",
            "\n",
            "mieszkania_test.csv 100%[===================>]   6.10K  --.-KB/s    in 0s      \n",
            "\n",
            "2021-03-11 23:45:08 (697 MB/s) - ‘mieszkania_test.csv’ saved [6247/6247]\n",
            "\n"
          ],
          "name": "stdout"
        }
      ]
    },
    {
      "cell_type": "code",
      "metadata": {
        "id": "yI9wFXv5-EoP",
        "colab": {
          "base_uri": "https://localhost:8080/"
        },
        "outputId": "0636fc04-d822-469f-938f-a05af658e849"
      },
      "source": [
        "!head mieszkania.csv mieszkania_test.csv"
      ],
      "execution_count": null,
      "outputs": [
        {
          "output_type": "stream",
          "text": [
            "==> mieszkania.csv <==\n",
            "m2,dzielnica,ilość_sypialni,ilość_łazienek,rok_budowy,parking_podziemny,cena\n",
            "104,mokotowo,2,2,1940,1,780094\n",
            "43,ochotowo,1,1,1970,1,346912\n",
            "128,grodziskowo,3,2,1916,1,523466\n",
            "112,mokotowo,3,2,1920,1,830965\n",
            "149,mokotowo,3,3,1977,0,1090479\n",
            "80,ochotowo,2,2,1937,0,599060\n",
            "58,ochotowo,2,1,1922,0,463639\n",
            "23,ochotowo,1,1,1929,0,166785\n",
            "40,mokotowo,1,1,1973,0,318849\n",
            "\n",
            "==> mieszkania_test.csv <==\n",
            "m2,dzielnica,ilość_sypialni,ilość_łazienek,rok_budowy,parking_podziemny,cena\n",
            "71,wolowo,2,2,1912,1,322227\n",
            "45,mokotowo,1,1,1938,0,295878\n",
            "38,mokotowo,1,1,1999,1,306530\n",
            "70,ochotowo,2,2,1980,1,553641\n",
            "136,mokotowo,3,2,1939,1,985348\n",
            "128,wolowo,3,2,1983,1,695726\n",
            "23,grodziskowo,1,1,1975,0,99751\n",
            "117,mokotowo,3,2,1942,0,891261\n",
            "65,ochotowo,2,1,2002,1,536499\n"
          ],
          "name": "stdout"
        }
      ]
    },
    {
      "cell_type": "code",
      "metadata": {
        "id": "N6mITyjJzNDu"
      },
      "source": [
        "import pandas as pd\n",
        "train = pd.read_csv('mieszkania.csv')\n",
        "test = pd.read_csv('mieszkania_test.csv')\n",
        "\n",
        "total = pd.concat([train,test])\n",
        "\n",
        "total = pd.get_dummies(total, prefix='dzielnica')\n",
        "\n",
        "train = total[:len(train)]\n",
        "test = total[len(train):]"
      ],
      "execution_count": null,
      "outputs": []
    },
    {
      "cell_type": "markdown",
      "metadata": {
        "id": "iH8Ut02G-EoU"
      },
      "source": [
        "Each row in the data represents a separate property. Our goal is to use the data from `mieszkania.csv` to create a model that can predict a property's price (i.e. `cena`) given its features (i.e. `m2,dzielnica,ilosc_sypialni,ilosc_lazienek,rok_budowy,parking_podziemny`). \n",
        "\n",
        "From now on, we should interfere only with `mieszkania.csv` (dubbed the training dataset) to make our decisions and create the model. The (only) purpose of `mieszkania_test.csv` is to test our model on **unseen** data.\n",
        "\n",
        "Our predictions should minimize the so-called mean squared logarithmic error:\n",
        "$$\n",
        "MSLE = \\frac{1}{n} \\sum_{i=1}^n (\\log(1+y_i) - \\log(1+p_i))^2,\n",
        "$$\n",
        "where $y_i$ is the ground truth, and $p_i$ is our prediction."
      ]
    },
    {
      "cell_type": "markdown",
      "metadata": {
        "id": "y8QX6Ncr-EoW"
      },
      "source": [
        "Let's start with implementing the loss function."
      ]
    },
    {
      "cell_type": "code",
      "metadata": {
        "id": "NzvfMKv6yJpm"
      },
      "source": [
        "import numpy as np"
      ],
      "execution_count": null,
      "outputs": []
    },
    {
      "cell_type": "code",
      "metadata": {
        "id": "JAiB8S9A-EoX"
      },
      "source": [
        "def msle(ys, ps):\n",
        "    assert len(ys) == len(ps)\n",
        "    return np.mean((np.log1p(ys)-np.log1p(ps))**2)"
      ],
      "execution_count": null,
      "outputs": []
    },
    {
      "cell_type": "markdown",
      "metadata": {
        "id": "zAmd2qLR-Eob"
      },
      "source": [
        "The simplest model is predicting the same constant for each instance. Test your implementation of msle against outputing the mean price."
      ]
    },
    {
      "cell_type": "code",
      "metadata": {
        "id": "b0RT7VW7-Eoc",
        "colab": {
          "base_uri": "https://localhost:8080/"
        },
        "outputId": "22fa7723-5b4f-404a-a643-a959cbff2ae8"
      },
      "source": [
        "###################################################\n",
        "# Compute msle for outputing the mean price #\n",
        "###################################################\n",
        "n=len(test)\n",
        "\n",
        "mean_price_train = np.mean(train['cena'])\n",
        "print(f'mean price {mean_price_train}')\n",
        "print(f\"msle for the same constant: {msle(ys=test['cena'], ps=np.full(n, fill_value=mean_price_train))}\")"
      ],
      "execution_count": null,
      "outputs": [
        {
          "output_type": "stream",
          "text": [
            "mean price 507919.49\n",
            "msle for the same constant: 0.4284115392580848\n"
          ],
          "name": "stdout"
        }
      ]
    },
    {
      "cell_type": "markdown",
      "metadata": {
        "id": "a0zMmTiv-Eof"
      },
      "source": [
        "Recall that outputing the mean minimzes $MSE$. However, we're now dealing with $MSLE$.\n",
        "\n",
        "Think of a constant that should result in the lowest $MSLE$."
      ]
    },
    {
      "cell_type": "code",
      "metadata": {
        "id": "Q0Z4drNd-Eog",
        "colab": {
          "base_uri": "https://localhost:8080/"
        },
        "outputId": "7a35cd56-43b5-4b90-fc38-e6c9cd2f7ccc"
      },
      "source": [
        "#############################################\n",
        "# TODO: Find this constant and compute msle #\n",
        "#############################################\n",
        "# \\sum_{i=1}^n (log(1+yi) - log(1+c))^2 ---> min\n",
        "# when log(1+c) = 1/n (log(1+y1)+...+log(1+yn))\n",
        "# 1+c = np.exp(1/n (log(1+y1)+...+log(1+yn)) )\n",
        "# c = np.exp(np.mean(np.log(1+train['cena']))) - 1\n",
        "c = np.exp(np.mean(np.log(1+train['cena']))) - 1\n",
        "print(f\"msle for the same constant: {msle(ys=test['cena'], ps=np.full(n, fill_value=np.log(1+c)))}\")"
      ],
      "execution_count": null,
      "outputs": [
        {
          "output_type": "stream",
          "text": [
            "msle for the same constant: 0.4275752033760174\n"
          ],
          "name": "stdout"
        }
      ]
    },
    {
      "cell_type": "markdown",
      "metadata": {
        "id": "2RdHlBw8-Eoi"
      },
      "source": [
        "Now, let's implement a standard linear regression model. "
      ]
    },
    {
      "cell_type": "code",
      "metadata": {
        "id": "Vn97D3vd-Eoj"
      },
      "source": [
        "def generate(train, test):\n",
        "  train_y = train['cena'].to_numpy()\n",
        "  test_y = test['cena'].to_numpy()\n",
        "  n=len(test_y)\n",
        "\n",
        "  train_x = train.drop('cena', axis = 1)\n",
        "  test_x = test.drop('cena', axis = 1)\n",
        "  \n",
        "  mean, std = train_x.mean().to_numpy(), train_x.std().to_numpy()\n",
        "\n",
        "  train_x, test_x = train_x.to_numpy(), test_x.to_numpy()\n",
        "\n",
        "  train_x = (train_x - mean) / std\n",
        "  train_x = np.hstack((np.ones_like(train_x), train_x)) # bias\n",
        "\n",
        "  test_x = (test_x - mean) / std\n",
        "  test_x = np.hstack((np.ones_like(test_x), test_x)) # bias\n",
        "  return train_x, train_y, test_x, test_y, n\n",
        "\n",
        "  \n",
        "train_x, train_y, test_x, test_y, n = generate(train, test)"
      ],
      "execution_count": null,
      "outputs": []
    },
    {
      "cell_type": "code",
      "metadata": {
        "id": "WfI9dNzpRtnc"
      },
      "source": [
        "##########################################################\n",
        "# TODO: Implement linear regression and compute its msle #\n",
        "##########################################################\n",
        "lr=0.001\n",
        "\n",
        "def evaluate(ws, xs, ys):\n",
        "    ps = np.dot(xs, ws)\n",
        "    assert len(ys) == len(ps)\n",
        "    return np.mean((ys - ps)**2)\n",
        "    \n",
        "\n",
        "def fit(x, y, steps):\n",
        "  print(x.shape[1])\n",
        "  W = np.random.normal(size=x.shape[1])\n",
        "  for i in range(steps):\n",
        "    # Loss(w0, w1, w2,..., wn) = (y - \\sum w_ix_i)**2\n",
        "    # pred = x1w1 + ... + xnwn\n",
        "    preds = np.dot(x, W)\n",
        "    delta = preds - y\n",
        "\n",
        "    # Loss =  \\sum (yt - (x1w1 + ... + xnwn))^2\n",
        "    # dLoss/dw_i = 2*(w1x1 + ... +wnxn - y)*xi\n",
        "    gradient = (2/n)*np.dot(x.T,  delta)\n",
        "    W-=lr*gradient\n",
        "    \n",
        "    if i % 10_000 == 0:\n",
        "      loss=evaluate(W, x, y)\n",
        "      print('Iter: {:>3} Loss: {:8.8f}'.format(i, loss))\n",
        "  return W\n",
        "\n"
      ],
      "execution_count": null,
      "outputs": []
    },
    {
      "cell_type": "code",
      "metadata": {
        "colab": {
          "base_uri": "https://localhost:8080/"
        },
        "id": "Be5K6k0HahfG",
        "outputId": "3b0c27b7-ac99-43d0-ce65-a1c0217822eb"
      },
      "source": [
        "W=fit(train_x, train_y, 100000)\n",
        "W_l=fit(train_x, np.log1p(train_y), 100000)"
      ],
      "execution_count": null,
      "outputs": [
        {
          "output_type": "stream",
          "text": [
            "18\n",
            "Iter:   0 Loss: 321879379890.82055664\n",
            "Iter: 10000 Loss: 4158723999.80191660\n",
            "Iter: 20000 Loss: 3910094975.47649288\n",
            "Iter: 30000 Loss: 3874334353.46551132\n",
            "Iter: 40000 Loss: 3869190065.90122557\n",
            "Iter: 50000 Loss: 3868450042.48553467\n",
            "Iter: 60000 Loss: 3868343587.57822609\n",
            "Iter: 70000 Loss: 3868328273.67457294\n",
            "Iter: 80000 Loss: 3868326070.71699142\n",
            "Iter: 90000 Loss: 3868325753.81398439\n",
            "18\n",
            "Iter:   0 Loss: 270.81180309\n",
            "Iter: 10000 Loss: 0.03621108\n",
            "Iter: 20000 Loss: 0.03110223\n",
            "Iter: 30000 Loss: 0.03036959\n",
            "Iter: 40000 Loss: 0.03026420\n",
            "Iter: 50000 Loss: 0.03024904\n",
            "Iter: 60000 Loss: 0.03024686\n",
            "Iter: 70000 Loss: 0.03024655\n",
            "Iter: 80000 Loss: 0.03024650\n",
            "Iter: 90000 Loss: 0.03024649\n"
          ],
          "name": "stdout"
        }
      ]
    },
    {
      "cell_type": "code",
      "metadata": {
        "colab": {
          "base_uri": "https://localhost:8080/"
        },
        "id": "0jDqe8Df9w8F",
        "outputId": "93b4fcb5-9d8b-418d-d3cb-04d5b2fdb60c"
      },
      "source": [
        "pred=test_x @ W\n",
        "print(f'Score after regression = {msle(test_y, pred)}')\n",
        "print(list(zip(pred[:10], test_y[:10])))"
      ],
      "execution_count": null,
      "outputs": [
        {
          "output_type": "stream",
          "text": [
            "Score after regression = 0.18097954619040799\n",
            "[(377531.00733555085, 322227), (371324.0075861293, 295878), (363304.24032035936, 306530), (552899.7397513028, 553641), (961779.6817848356, 985348), (757216.174596213, 695726), (1711.421480350571, 99751), (814211.6758486971, 891261), (538791.6709008679, 536499), (637412.9729520866, 527093)]\n"
          ],
          "name": "stdout"
        }
      ]
    },
    {
      "cell_type": "markdown",
      "metadata": {
        "id": "nzrrOte5-Eol"
      },
      "source": [
        "Note that the loss function that the algorithms optimizes (i.e $MSE$) differs from $MSLE$. We've already seen that this may result in a suboptimal solution.\n",
        "\n",
        "How can you change the setting so that we optimze $MSLE$ instead?"
      ]
    },
    {
      "cell_type": "markdown",
      "metadata": {
        "id": "qVD8kWEJ-Eom"
      },
      "source": [
        "Hint: \n",
        "<sub><sup><sub><sup><sub><sup>\n",
        "Be lazy. We don't want to change the algorithm.\n",
        "</sup></sub></sup></sub></sup></sub>"
      ]
    },
    {
      "cell_type": "code",
      "metadata": {
        "id": "MniIPMg8-Eom",
        "colab": {
          "base_uri": "https://localhost:8080/"
        },
        "outputId": "3a313636-7839-4514-d29c-3f6b64f87e7c"
      },
      "source": [
        "pred=np.expm1(test_x @ W_l)\n",
        "print(f'Score after regression = {msle(test_y, pred)}')\n",
        "print(list(zip(pred[:10], test_y[:10])))\n"
      ],
      "execution_count": null,
      "outputs": [
        {
          "output_type": "stream",
          "text": [
            "Score after regression = 0.03656891333674678\n",
            "[(325345.70468483336, 322227), (319964.2647759138, 295878), (296896.2926081494, 306530), (424585.85935797397, 553641), (1198592.430718195, 985348), (801487.8472737543, 695726), (141146.08215618547, 99751), (860737.8811225289, 891261), (447010.2152104922, 536499), (618671.4825228279, 527093)]\n"
          ],
          "name": "stdout"
        }
      ]
    },
    {
      "cell_type": "markdown",
      "metadata": {
        "id": "OvWrBkLu-Eoo"
      },
      "source": [
        "Without any feature engineering our model approximates the price as a linear combination of original features:\n",
        "$$\n",
        "\\text{price} \\approx w_1 \\cdot \\text{area} + w_2 \\cdot \\text{district} + \\dots.\n",
        "$$\n",
        "Let's now introduce some interactions between the variables. For instance, let's consider a following formula:\n",
        "$$\n",
        "\\text{price} \\approx w_1 \\cdot \\text{area} \\cdot \\text{avg. price in the district per sq. meter} + w_2 \\cdot \\dots + \\dots.\n",
        "$$\n",
        "Here, we model the price with far greater granularity, and we may expect to see more acurate results."
      ]
    },
    {
      "cell_type": "markdown",
      "metadata": {
        "id": "zBM60E7t-Eop"
      },
      "source": [
        "Add some feature engineering to your model. Be sure to play with the data and not with the algorithm's code. \n",
        "\n",
        "Think how to make sure that your model is capable of capturing the $w_1 \\cdot \\text{area} \\cdot \\text{avg. price...}$ part, without actually computing the averages."
      ]
    },
    {
      "cell_type": "markdown",
      "metadata": {
        "id": "XT5DziNC-Eoq"
      },
      "source": [
        "*Hint*: \n",
        "Is having a binary encoding for each district and multiplying it by area enough?\n"
      ]
    },
    {
      "cell_type": "markdown",
      "metadata": {
        "id": "PKOVCHNz-Eor"
      },
      "source": [
        "*Hint* 2: \n",
        "Why not multiply everything together? I.e. (A,B,C) -> (AB,AC,BC).\n"
      ]
    },
    {
      "cell_type": "code",
      "metadata": {
        "id": "DPviz09O-Eor"
      },
      "source": [
        "###############################################\n",
        "# TODO: Implement the feature engieering part #\n",
        "###############################################\n",
        "\n",
        "# m2,dzielnica,ilosc_sypialni,ilosc_lazienek,rok_budowy,parking_podziemny\n",
        "\n",
        "cols = [x for x in train.columns if x != 'cena']\n",
        "\n",
        "def mul_cols(df):\n",
        "  a,b = df.shape\n",
        "  ndf = np.zeros(shape=(a,int(b*(b+1)/2)))\n",
        "  k=0\n",
        "  for i in range(b):\n",
        "    for j in range(i, b):\n",
        "      ndf[:, k] = df[:, i]*df[:, j]\n",
        "      k+=1\n",
        "  return ndf\n",
        "\n",
        "train_x_new = mul_cols(train_x)\n",
        "test_x_new = mul_cols(test_x)"
      ],
      "execution_count": null,
      "outputs": []
    },
    {
      "cell_type": "code",
      "metadata": {
        "id": "v2Lj1TPr-Eot",
        "colab": {
          "base_uri": "https://localhost:8080/"
        },
        "outputId": "f1286e34-448a-4743-c496-a4b34eb2cd08"
      },
      "source": [
        "W_l=fit(train_x_new, np.log1p(train_y), 100000)\n",
        "pred=np.expm1(test_x_new @ W_l)\n",
        "print(f'Score after regression = {msle(test_y, pred)}')\n",
        "print(list(zip(pred[:10], test_y[:10])))\n"
      ],
      "execution_count": null,
      "outputs": [
        {
          "output_type": "stream",
          "text": [
            "171\n",
            "Iter:   0 Loss: 166.94156413\n",
            "Iter: 10000 Loss: 0.09855877\n",
            "Iter: 20000 Loss: 0.01731904\n",
            "Iter: 30000 Loss: 0.00981513\n",
            "Iter: 40000 Loss: 0.00870900\n",
            "Iter: 50000 Loss: 0.00827872\n",
            "Iter: 60000 Loss: 0.00798367\n",
            "Iter: 70000 Loss: 0.00775464\n",
            "Iter: 80000 Loss: 0.00757216\n",
            "Iter: 90000 Loss: 0.00742492\n",
            "Score after regression = 0.01973913352438987\n",
            "[(433021.6121943501, 322227), (339732.0189798612, 295878), (278820.59103135654, 306530), (523638.981215183, 553641), (949488.4796265454, 985348), (654759.3424452044, 695726), (118014.02668216478, 99751), (866570.7466566951, 891261), (533889.0250964419, 536499), (502419.238145803, 527093)]\n"
          ],
          "name": "stdout"
        }
      ]
    },
    {
      "cell_type": "code",
      "metadata": {
        "id": "zTFTTCSkjw2x"
      },
      "source": [
        ""
      ],
      "execution_count": null,
      "outputs": []
    }
  ]
}